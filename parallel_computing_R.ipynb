{
  "nbformat": 4,
  "nbformat_minor": 0,
  "metadata": {
    "colab": {
      "provenance": [],
      "authorship_tag": "ABX9TyOfjdt3b6Y25Ndua5wmy3Bm",
      "include_colab_link": true
    },
    "kernelspec": {
      "name": "ir",
      "display_name": "R"
    },
    "language_info": {
      "name": "R"
    }
  },
  "cells": [
    {
      "cell_type": "markdown",
      "metadata": {
        "id": "view-in-github",
        "colab_type": "text"
      },
      "source": [
        "<a href=\"https://colab.research.google.com/github/valerievossen/valerievossen/blob/main/parallel_computing_R.ipynb\" target=\"_parent\"><img src=\"https://colab.research.google.com/assets/colab-badge.svg\" alt=\"Open In Colab\"/></a>"
      ]
    },
    {
      "cell_type": "markdown",
      "source": [
        "A notebook containing the example code used to show the efficiency of parallel computing.\n",
        "\n",
        "Link to topic: https://tilburgsciencehub.com/topics/computer-setup/develop-coding-skills/coding-practices/parallel-computing/\n",
        "\n",
        "Author: Valerie Vossen"
      ],
      "metadata": {
        "id": "q34W1D2EiBO-"
      }
    },
    {
      "cell_type": "code",
      "execution_count": 6,
      "metadata": {
        "id": "UD9R0XrxeAsE",
        "colab": {
          "base_uri": "https://localhost:8080/",
          "height": 277
        },
        "outputId": "74954388-3624-4948-f64b-9d16012cb77c"
      },
      "outputs": [
        {
          "output_type": "display_data",
          "data": {
            "text/html": [
              "2"
            ],
            "text/markdown": "2",
            "text/latex": "2",
            "text/plain": [
              "[1] 2"
            ]
          },
          "metadata": {}
        },
        {
          "output_type": "stream",
          "name": "stderr",
          "text": [
            "\n",
            "Attaching package: ‘dplyr’\n",
            "\n",
            "\n",
            "The following objects are masked from ‘package:stats’:\n",
            "\n",
            "    filter, lag\n",
            "\n",
            "\n",
            "The following objects are masked from ‘package:base’:\n",
            "\n",
            "    intersect, setdiff, setequal, union\n",
            "\n",
            "\n"
          ]
        }
      ],
      "source": [
        "# Load packages and data\n",
        "library(parallel)\n",
        "library(datasets)\n",
        "data(iris)\n",
        "library(dplyr)\n"
      ]
    },
    {
      "cell_type": "code",
      "source": [
        "# Define function\n",
        "calculate_mean_sepal_length <- function(df) {\n",
        "  species <- unique(df$Species)\n",
        "  means <- vector(\"numeric\", length = length(species))\n",
        "  for (i in 1:length(species)) {\n",
        "    Sys.sleep(2) # Simulating a 2-second computation\n",
        "    means[i] <- mean(df[df$Species == species[i], \"Sepal.Length\"])\n",
        "  }\n",
        "  return(data.frame(Species = species, Mean_Sepal_Length = means))\n",
        "}"
      ],
      "metadata": {
        "id": "bQY64YdTeoRw"
      },
      "execution_count": 9,
      "outputs": []
    },
    {
      "cell_type": "code",
      "source": [
        "# Without parallelization (sequential computation)\n",
        "start_time_normal <- Sys.time()\n",
        "result_normal <- calculate_mean_sepal_length(iris)\n",
        "end_time_normal <- Sys.time()\n",
        "\n",
        "time_normal <- end_time_normal - start_time_normal\n",
        "result_normal"
      ],
      "metadata": {
        "colab": {
          "base_uri": "https://localhost:8080/",
          "height": 192
        },
        "id": "sp-SwVOMhfpn",
        "outputId": "857d87f4-3c16-4889-8fb0-ebe5ecf72111"
      },
      "execution_count": 10,
      "outputs": [
        {
          "output_type": "display_data",
          "data": {
            "text/html": [
              "<table class=\"dataframe\">\n",
              "<caption>A data.frame: 3 × 2</caption>\n",
              "<thead>\n",
              "\t<tr><th scope=col>Species</th><th scope=col>Mean_Sepal_Length</th></tr>\n",
              "\t<tr><th scope=col>&lt;fct&gt;</th><th scope=col>&lt;dbl&gt;</th></tr>\n",
              "</thead>\n",
              "<tbody>\n",
              "\t<tr><td>setosa    </td><td>5.006</td></tr>\n",
              "\t<tr><td>versicolor</td><td>5.936</td></tr>\n",
              "\t<tr><td>virginica </td><td>6.588</td></tr>\n",
              "</tbody>\n",
              "</table>\n"
            ],
            "text/markdown": "\nA data.frame: 3 × 2\n\n| Species &lt;fct&gt; | Mean_Sepal_Length &lt;dbl&gt; |\n|---|---|\n| setosa     | 5.006 |\n| versicolor | 5.936 |\n| virginica  | 6.588 |\n\n",
            "text/latex": "A data.frame: 3 × 2\n\\begin{tabular}{ll}\n Species & Mean\\_Sepal\\_Length\\\\\n <fct> & <dbl>\\\\\n\\hline\n\t setosa     & 5.006\\\\\n\t versicolor & 5.936\\\\\n\t virginica  & 6.588\\\\\n\\end{tabular}\n",
            "text/plain": [
              "  Species    Mean_Sepal_Length\n",
              "1 setosa     5.006            \n",
              "2 versicolor 5.936            \n",
              "3 virginica  6.588            "
            ]
          },
          "metadata": {}
        }
      ]
    },
    {
      "cell_type": "code",
      "source": [
        "# With parallelization using mclapply\n",
        "start_time_multi <- Sys.time()\n",
        "\n",
        "result_multi <- bind_rows(\n",
        "  mclapply(\n",
        "    split(iris, iris$Species), calculate_mean_sepal_length\n",
        "    )\n",
        ")\n",
        "end_time_multi <- Sys.time()\n",
        "\n",
        "time_multi <- end_time_multi - start_time_multi\n"
      ],
      "metadata": {
        "id": "4BV-MpbNhnBE"
      },
      "execution_count": 11,
      "outputs": []
    },
    {
      "cell_type": "code",
      "source": [
        "# Compare times\n",
        "time_normal\n",
        "time_multi"
      ],
      "metadata": {
        "colab": {
          "base_uri": "https://localhost:8080/",
          "height": 52
        },
        "id": "920ceOX7hsPG",
        "outputId": "763afb69-22b2-478e-8fae-2fe0819f0cea"
      },
      "execution_count": 12,
      "outputs": [
        {
          "output_type": "display_data",
          "data": {
            "text/plain": [
              "Time difference of 6.011784 secs"
            ]
          },
          "metadata": {}
        },
        {
          "output_type": "display_data",
          "data": {
            "text/plain": [
              "Time difference of 4.037632 secs"
            ]
          },
          "metadata": {}
        }
      ]
    },
    {
      "cell_type": "code",
      "source": [
        "# Socket approach\n",
        "\n",
        "# Determine number of cores available\n",
        "perc_use <- 0.8\n",
        "ncpu <- floor(detectCores(all.tests = FALSE, logical = TRUE) * perc_use)\n",
        "\n",
        "# Create a parallel cluster\n",
        "cl <- makePSOCKcluster(ncpu)\n",
        "\n",
        "# Export function to cluster\n",
        "clusterExport(cl, 'calculate_mean_sepal_length')\n",
        "\n",
        "# Parallel computation function\n",
        "calculate_mean_sepal_length_parallel <- function(df) {\n",
        "  clusterApplyLB(cl, split(df, df$Species), calculate_mean_sepal_length)\n",
        "}\n",
        "\n",
        "# Run parallel computation\n",
        "start_time_socket <- Sys.time()\n",
        "result_socket <- bind_rows(\n",
        "  calculate_mean_sepal_length_parallel(iris)\n",
        "  )\n",
        "end_time_socket <- Sys.time()\n",
        "time_socket <- end_time_socket - start_time_socket"
      ],
      "metadata": {
        "id": "Wq3Z9llbht7Y"
      },
      "execution_count": 15,
      "outputs": []
    },
    {
      "cell_type": "code",
      "source": [
        "# Compare times\n",
        "time_normal\n",
        "time_socket"
      ],
      "metadata": {
        "colab": {
          "base_uri": "https://localhost:8080/",
          "height": 52
        },
        "id": "Tp_3BJb0h3HQ",
        "outputId": "afa23f1f-e7c5-4b5e-f676-71b7e10dc884"
      },
      "execution_count": 16,
      "outputs": [
        {
          "output_type": "display_data",
          "data": {
            "text/plain": [
              "Time difference of 6.011784 secs"
            ]
          },
          "metadata": {}
        },
        {
          "output_type": "display_data",
          "data": {
            "text/plain": [
              "Time difference of 6.062877 secs"
            ]
          },
          "metadata": {}
        }
      ]
    }
  ]
}